{
 "cells": [
  {
   "cell_type": "code",
   "execution_count": 5,
   "id": "b8728a88-864f-4f4a-b843-0f7283b961fd",
   "metadata": {},
   "outputs": [
    {
     "ename": "SyntaxError",
     "evalue": "invalid syntax (3543994001.py, line 9)",
     "output_type": "error",
     "traceback": [
      "\u001b[0;36m  Cell \u001b[0;32mIn[5], line 9\u001b[0;36m\u001b[0m\n\u001b[0;31m    user_agent=\"MyRedditApp v1.0 by National_Rhubarb9302\",\u001b[0m\n\u001b[0m    ^\u001b[0m\n\u001b[0;31mSyntaxError\u001b[0m\u001b[0;31m:\u001b[0m invalid syntax\n"
     ]
    }
   ],
   "source": [
    "!pip install praw\n",
    "\n",
    "import praw\n",
    "\n",
    "reddit = praw.Reddit(\n",
    "    client_id=\"BX0QHmKfpuO8Me8JtQuwOA\",\n",
    "    client_secret=\"VTWBPkor0b8TMxW3n1J3ijaJGKQ_NA\",\n",
    "    password=\"playmaker10\",\n",
    "    user_agent=\"MyRedditApp v1.0 by National_Rhubarb9302\",\n",
    "    username=\"National_Rhubarb9302\"\n",
    ")"
   ]
  },
  {
   "cell_type": "code",
   "execution_count": 4,
   "id": "1963c134-e742-4632-93b8-1017934f56f3",
   "metadata": {},
   "outputs": [
    {
     "name": "stdout",
     "output_type": "stream",
     "text": [
      "True\n"
     ]
    }
   ],
   "source": [
    "print(reddit.read_only)"
   ]
  },
  {
   "cell_type": "code",
   "execution_count": null,
   "id": "83c5ad7c-5e68-4379-8fee-f29dd0541382",
   "metadata": {},
   "outputs": [],
   "source": []
  }
 ],
 "metadata": {
  "kernelspec": {
   "display_name": "Python 3 (ipykernel)",
   "language": "python",
   "name": "python3"
  },
  "language_info": {
   "codemirror_mode": {
    "name": "ipython",
    "version": 3
   },
   "file_extension": ".py",
   "mimetype": "text/x-python",
   "name": "python",
   "nbconvert_exporter": "python",
   "pygments_lexer": "ipython3",
   "version": "3.9.18"
  }
 },
 "nbformat": 4,
 "nbformat_minor": 5
}
