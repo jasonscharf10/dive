{
 "cells": [
  {
   "cell_type": "code",
   "execution_count": 28,
   "id": "b8728a88-864f-4f4a-b843-0f7283b961fd",
   "metadata": {},
   "outputs": [],
   "source": [
    "import praw\n",
    "\n",
    "reddit = praw.Reddit(\n",
    "    client_id=\"_rbcUnfkFX6enVpa44HQ8Q\",\n",
    "    client_secret=\"p2yPa5p0vEUxELpyfxgxmUYKLWqCrA\",\n",
    "    password=\"Pandadoc10!\",\n",
    "    user_agent=\"MyRedditApp v1.0 by National_Rhubarb9302\",\n",
    "    username=\"National_Rhubarb9302\"\n",
    ")"
   ]
  },
  {
   "cell_type": "code",
   "execution_count": 29,
   "id": "1963c134-e742-4632-93b8-1017934f56f3",
   "metadata": {},
   "outputs": [
    {
     "name": "stdout",
     "output_type": "stream",
     "text": [
      "False\n"
     ]
    }
   ],
   "source": [
    "print(reddit.read_only)"
   ]
  },
  {
   "cell_type": "code",
   "execution_count": 30,
   "id": "83c5ad7c-5e68-4379-8fee-f29dd0541382",
   "metadata": {},
   "outputs": [
    {
     "name": "stdout",
     "output_type": "stream",
     "text": [
      "reddit Development\n",
      "A subreddit for discussion of Reddit's API and Reddit API clients.\n",
      "\n",
      "* [Read the API Overview & Rules](https://github.com/reddit/reddit/wiki/API)\n",
      "* [Check out the API documentation](http://www.reddit.com/dev/api)\n",
      "* [PRAW chat](https://join.slack.com/t/praw/shared_invite/enQtOTUwMDcxOTQ0NzY5LWVkMGQ3ZDk5YmQ5MDEwYTZmMmJkMTJkNjBkNTY3OTU0Y2E2NGRlY2ZhZTAzMWZmMWRiMTMwYjdjODkxOGYyZjY)\n",
      "* [Snoowrap chat](https://gitter.im/not-an-aardvark/snoowrap)\n",
      "* [Unofficial Discord](https://discord.gg/hVMhxpV)\n",
      "* Please do not request bots here. Consider /r/requestabot instead.\n",
      "\n",
      "\n",
      "Please confine discussion to Reddit's API instead of using this as a soapbox to talk to the admins. In particular, use [/r/ideasfortheadmins](/r/ideasfortheadmins) for feature ideas and [/r/bugs](/r/bugs) for bugs. If you have general reddit questions, try [/r/help](/r/help).\n",
      "\n",
      "To see an explanation of recent user-facing changes to reddit (and the code behind them), check out /r/changelog.\n",
      "\n",
      "---\n",
      "\n",
      "To report a security issue with reddit, please send an email to <security@reddit.com> .\n",
      "\n",
      "This is an admin-sponsored subreddit.\n"
     ]
    }
   ],
   "source": [
    "subreddit = reddit.subreddit(\"redditdev\")\n",
    "\n",
    "print(subreddit.title)\n",
    "# Output: reddit development\n",
    "print(subreddit.description)\n",
    "# Output: a subreddit for discussion of ..."
   ]
  },
  {
   "cell_type": "code",
   "execution_count": 32,
   "id": "89b2cf7c-03d8-4682-abaa-53e4d40a230e",
   "metadata": {},
   "outputs": [
    {
     "name": "stdout",
     "output_type": "stream",
     "text": [
      "PandaDocs + Zapier workaround?\n",
      "PandaDoc Integration - Status update?\n",
      "What's is the best e-signature solution out on the market today?\n",
      "Anyone using PandaDoc?\n",
      "Has Anyone Used Panda Doc?\n",
      "PandaDoc or HelloBonsai or ....?\n",
      "New remote job at PandaDoc\n",
      "New remote job at PandaDoc\n",
      "New remote job at PandaDoc\n",
      "New remote job at PandaDoc\n",
      "New remote job at PandaDoc\n",
      "New remote job at PandaDoc\n",
      "[ PandaDoc ] Opiniones, precio y funcionalidades\n",
      "PandaDoc\n",
      "New remote job at PandaDoc\n",
      "📢 PandaDoc is hiring a Java Engineer (Core area)!\n",
      "[ PandaDoc ] Opiniones, precio y funcionalidades\n",
      "📢 PandaDoc is hiring a Senior Analytics Engineer, Product!\n",
      "New remote job at PandaDoc\n",
      "[HIRING] Pandadoc is hiring a Senior Product Designer (Growth)\n",
      "📢 PandaDoc is hiring a Senior Python Engineer, Incubation!\n",
      "📢 PandaDoc is hiring a Java Engineer (Core area)!\n",
      "PandaDoc is hiring Senior Analytics Engineer, Product | [Remote] [SQL Pandas]\n",
      "📢 PandaDoc is hiring a Senior Frontend Engineer!\n",
      "📢 PandaDoc is hiring a Senior Engineering Manager, Incubation Track!\n",
      "📢 PandaDoc is hiring a Senior Python Engineer (Application Platform)!\n",
      "📢 Pandadoc is hiring a Senior Product Designer (Growth)!\n",
      "Docusign, PandaDocs or pdfFiller or something else I don't know.\n",
      "PandaDoc is hiring Senior Engineering Manager, Incubation Track | [Remote] [Pandas]\n",
      "📢 PandaDoc is hiring a Senior Python Engineer, Incubation!\n",
      "PandaDoc is hiring Senior Engineering Manager, Incubation Track | [Remote] [Pandas]\n",
      "📢 PandaDoc is hiring a Senior Python Engineer, Incubation, AI Team!\n",
      "📢 PandaDoc is hiring a Staff Python Engineer, Application Platform!\n",
      "📢 PandaDoc is hiring a Senior Site Reliability Engineer!\n",
      "PandaDoc is hiring Senior Engineering Manager, Incubation Track | [Remote] [Pandas]\n",
      "📢 PandaDoc is hiring a Staff Python Engineer, Application Platform!\n",
      "New remote job at PandaDoc\n",
      "PandaDoc is hiring Senior Analytics Engineer, Product | [Remote] [SQL Pandas]\n",
      "📢 PandaDoc is hiring a Senior Engineering Manager, Incubation Track!\n",
      "📩 Principal Product Designer at 🏢 PANDADOC. 📍Remote job in 🇵🇹 Portugal\n",
      "PandaDoc is hiring Senior Engineering Manager, Incubation Track | [Remote] [Pandas]\n",
      "📩 Staff UX Researcher at 🏢 PANDADOC. 📍Remote job in 🇵🇹 Portugal\n",
      "📢 PandaDoc is hiring a Senior Python Engineer, Incubation!\n",
      "PandaDoc is hiring Senior Engineering Manager, Incubation Track | [Remote] [Pandas]\n",
      "PandaDoc is hiring Senior Engineering Manager, Incubation Track | [Remote] [Pandas]\n",
      "PandaDoc is hiring Senior Analytics Engineer, Product | [Remote] [SQL Pandas]\n",
      "📩 Senior Frontend Engineer at 🏢 PANDADOC. 📍Remote job in 🇵🇹 Portugal\n",
      "📩 Solutions Engineer at 🏢 PANDADOC. 📍Remote job in 🌏 Worldwide\n",
      "📩 Staff UX Researcher at 🏢 PANDADOC. 📍Remote job in 🇵🇱 Poland\n",
      "📩 Principal Product Designer at 🏢 PANDADOC. 📍Remote job in 🇵🇱 Poland\n",
      "📩 Account Manager, SMB at 🏢 PANDADOC. 📍Remote job in 🌏 Worldwide\n",
      "📩 Senior Paid Social Manager at 🏢 PANDADOC. 📍Remote job in 🇵🇹 Portugal\n",
      "📢 PandaDoc is hiring a Senior Site Reliability Engineer!\n",
      "📩 Principal Product Designer at 🏢 PANDADOC. 📍Remote job in 🇺🇦 Ukraine\n",
      "📩 Account Manager, SMB at 🏢 PANDADOC. 📍Remote job in 🌏 Worldwide\n",
      "📩 Staff UX Researcher at 🏢 PANDADOC. 📍Remote job in 🇺🇦 Ukraine\n",
      "PandaDoc is hiring Senior Analytics Engineer, Product | Remote Europe [SQL Pandas]\n",
      "📩 Senior Python Engineer at 🏢 PANDADOC. 📍Remote job in 🇵🇹 Portugal\n",
      "PandaDoc is hiring Senior Engineering Manager, Incubation Track | [Remote] [Pandas]\n",
      "PandaDoc is hiring Senior Engineering Manager, Incubation Track | [Remote] [Pandas]\n",
      "PandaDoc is hiring Senior Engineering Manager, Incubation Track | Remote Poland [Pandas]\n",
      "PandaDoc is hiring Senior Engineering Manager, Incubation Track | Remote Ukraine [Pandas]\n",
      "📩 Staff UX Researcher at 🏢 PANDADOC. 📍Remote job in 🌏 Worldwide\n",
      "PandaDoc is hiring Senior Engineering Manager, Incubation Track | [Remote] [Pandas]\n",
      "New remote job at PandaDoc\n",
      "📩 Senior Python Engineer at 🏢 PANDADOC. 📍Remote job in 🇵🇱 Poland\n",
      "PandaDoc is hiring Senior Engineering Manager, Incubation Track | Remote Ukraine [Pandas]\n",
      "📩 Account Manager, SMB at 🏢 PANDADOC. 📍Remote job in 🌏 Worldwide\n",
      "📩 Senior Site Reliability Engineer at 🏢 PANDADOC. 📍Remote job in 🇵🇱 Poland\n",
      "PandaDoc is hiring Senior Engineering Manager, Incubation Track | Remote Poland [Pandas]\n",
      "PandaDoc is hiring Senior Analytics Engineer, Product | Remote Europe [SQL Pandas]\n",
      "Pandadoc for sending out same contract to multiple people?\n",
      "📢 PandaDoc is hiring a Senior Analytics Engineer, Product!\n",
      "New remote job at PandaDoc\n",
      "PandaDoc is hiring Senior Analytics Engineer, Product | [Remote] [SQL Pandas]\n",
      "PandaDoc is hiring Senior Engineering Manager, Incubation Track | Remote Portugal [Pandas]\n",
      "📩 Senior Frontend Engineer at 🏢 PANDADOC. 📍Remote job in 🇵🇱 Poland\n",
      "📩 Senior Frontend Engineer at 🏢 PANDADOC. 📍Remote job in 🇺🇦 Ukraine\n",
      "Senior Accountant in PandaDoc (Remote job) in 🇺🇸\n",
      "PandaDoc is hiring Senior Engineering Manager, Incubation Track | Remote Portugal [Pandas]\n",
      "📩 Solutions Engineer at 🏢 PANDADOC. 📍Remote job in 🌏 Worldwide\n",
      "📩 Senior Python Engineer, Incubation at 🏢 PANDADOC. 📍Remote job in 🇺🇦 Ukraine\n",
      "📩 Account Executive, SMB - Bilingual at 🏢 PANDADOC. 📍Remote job in 🌏 Worldwide\n",
      "📩 Senior Paid Social Manager at 🏢 PANDADOC. 📍Remote job in 🇵🇱 Poland\n",
      "📩 Senior Engineering Manager, Incubation Track at 🏢 PANDADOC. 📍Remote job in 🇵🇹 Portugal\n",
      "📩 Senior Python Engineer, Incubation at 🏢 PANDADOC. 📍Remote job in 🇵🇹 Portugal\n",
      "PandaDoc is hiring Senior Engineering Manager, Incubation Track | Remote Portugal [Pandas]\n",
      "Director of Accounting in PandaDoc (Remote job) in 🇺🇸\n",
      "Manager, SMB Sales in PandaDoc (Remote job) in 🇺🇸\n",
      "PandaDoc is hiring Senior Analytics Engineer, Product | [Remote] [SQL Pandas]\n",
      "PandaDoc is hiring Senior Engineering Manager, Incubation Track | Remote Ukraine [Pandas]\n",
      "[HIRING] PandaDoc is hiring a Senior Product Designer (Growth)\n",
      "PandaDoc is hiring Senior Analytics Engineer, Product | [Remote] [SQL Pandas]\n",
      "📩 Senior Frontend Engineer at 🏢 PANDADOC. 📍Remote job in 🇵🇹 Portugal\n",
      "📩 Senior Frontend Engineer at 🏢 PANDADOC. 📍Remote job in 🇵🇱 Poland\n",
      "PandaDoc is hiring Senior Analytics Engineer, Product | Remote Europe [SQL Pandas]\n",
      "📩 Principal Architect at 🏢 PANDADOC. 📍Remote job in 🇵🇹 Portugal\n",
      "📩 Senior Site Reliability Engineer at 🏢 PANDADOC. 📍Remote job in 🇵🇱 Poland\n",
      "PandaDoc is hiring Senior Analytics Engineer, Product | [Remote] [SQL Pandas]\n",
      "Director, Marketing Operations in PandaDoc (Remote job) in 🇺🇸\n"
     ]
    }
   ],
   "source": [
    "for submission in reddit.subreddit(\"all\").search(\"pandadoc\"):\n",
    "    print(submission.title)"
   ]
  },
  {
   "cell_type": "code",
   "execution_count": null,
   "id": "ebd63357-51be-49a0-86bd-d56a3c143d84",
   "metadata": {},
   "outputs": [],
   "source": []
  }
 ],
 "metadata": {
  "kernelspec": {
   "display_name": "Python 3 (ipykernel)",
   "language": "python",
   "name": "python3"
  },
  "language_info": {
   "codemirror_mode": {
    "name": "ipython",
    "version": 3
   },
   "file_extension": ".py",
   "mimetype": "text/x-python",
   "name": "python",
   "nbconvert_exporter": "python",
   "pygments_lexer": "ipython3",
   "version": "3.9.18"
  }
 },
 "nbformat": 4,
 "nbformat_minor": 5
}
